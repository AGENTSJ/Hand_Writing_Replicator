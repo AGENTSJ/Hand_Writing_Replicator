{
  "cells": [
    {
      "cell_type": "markdown",
      "source": [
        "# OVA (One versus All Classifier)\n",
        "\n",
        "### could have used scikit learn OneVsRestClassifier but was getting issues with limited memmory in collab and pc"
      ],
      "metadata": {
        "id": "13H47Z46wlUp"
      }
    },
    {
      "cell_type": "code",
      "source": [
        "!pip install emnist"
      ],
      "metadata": {
        "id": "EKf8e4YlZfod"
      },
      "execution_count": null,
      "outputs": []
    },
    {
      "cell_type": "code",
      "execution_count": null,
      "metadata": {
        "id": "1_tSoxvcWE52"
      },
      "outputs": [],
      "source": [
        "import numpy as np\n",
        "import pandas as pd\n",
        "from sklearn.model_selection import train_test_split\n",
        "from keras import layers,models\n",
        "import numpy as np\n",
        "from emnist import extract_training_samples, extract_test_samples\n",
        "from sklearn.model_selection import train_test_split"
      ]
    },
    {
      "cell_type": "code",
      "source": [
        "images, labels = extract_training_samples('bymerge')\n",
        "testImg,testLabels = extract_test_samples('bymerge')"
      ],
      "metadata": {
        "id": "low0Es-bZXNr"
      },
      "execution_count": null,
      "outputs": []
    },
    {
      "cell_type": "code",
      "source": [
        "print(np.unique(labels))\n",
        "print(len(labels))\n",
        "print(images[0].shape)"
      ],
      "metadata": {
        "id": "xL9L-HOkYEQM"
      },
      "execution_count": null,
      "outputs": []
    },
    {
      "cell_type": "code",
      "source": [
        "from google.colab import drive\n",
        "drive.mount('/content/drive')"
      ],
      "metadata": {
        "id": "WIRK2mWCWn3P"
      },
      "execution_count": null,
      "outputs": []
    },
    {
      "cell_type": "code",
      "execution_count": null,
      "metadata": {
        "id": "WMPXPWAsWE55"
      },
      "outputs": [],
      "source": [
        "def create_model():\n",
        "\n",
        "    model = models.Sequential([\n",
        "        layers.Conv2D(32, (3, 3), activation='relu', input_shape=(28, 28, 1)),\n",
        "        layers.MaxPooling2D((2, 2)),\n",
        "        layers.Flatten(),\n",
        "        layers.Dense(128, activation='relu'),\n",
        "        layers.Dense(1, activation='sigmoid')\n",
        "    ])\n",
        "    model.compile(optimizer='adam', loss='binary_crossentropy', metrics=['accuracy'])\n",
        "    return model"
      ]
    },
    {
      "cell_type": "code",
      "execution_count": null,
      "metadata": {
        "id": "DJqcBml9WE55"
      },
      "outputs": [],
      "source": [
        "\n",
        "alphabets = [chr(i) for i in range(ord('A'),ord('Z')+1)]\n",
        "alphabets = alphabets+[chr(i) for i in range(ord('a'),ord('z')+1)]\n",
        "datasetmap = [i for i in range(10)]+alphabets\n",
        "print(datasetmap)"
      ]
    },
    {
      "cell_type": "markdown",
      "source": [
        "# Intuition\n",
        "### there is 62 models here divided into 3 cluster of models\n",
        "### cluster 1 => handles A-Z\n",
        "### cluster 2 => handles a-z\n",
        "### cluster 3 => handles 1-9\n",
        "\n",
        "### each model predicts if a image belongs of certain class\n",
        "### example modelA in cluster 1 => predicts if the image is A(1) or not(0)\n"
      ],
      "metadata": {
        "id": "YYsDHqiYvfep"
      }
    },
    {
      "cell_type": "markdown",
      "source": [
        "# change the wanted class and unwanted class for training each model cluster"
      ],
      "metadata": {
        "id": "5TwAB4GjvQ1F"
      }
    },
    {
      "cell_type": "code",
      "execution_count": null,
      "metadata": {
        "id": "QDf96tBQWE55"
      },
      "outputs": [],
      "source": [
        "indexofallclass = [i for i in range(62)]\n",
        "wantedclass = [i for i in range(10)]\n",
        "unwanted = [i for i in range(10,48)]\n",
        "from keras import backend as K\n",
        "\n",
        "for i in wantedclass:\n",
        "\n",
        "  normal_class = i\n",
        "\n",
        "  print(\"model\",datasetmap[normal_class],\"training\",normal_class)\n",
        "  indices_of_normal_class = np.where(labels == normal_class)[0]\n",
        "\n",
        "  X_desired_class = images[indices_of_normal_class]\n",
        "  y_desired_class = np.ones(len(indices_of_normal_class))\n",
        "\n",
        "  indices_of_other_class = np.where((labels != normal_class) & ~np.isin(labels, unwanted))[0]\n",
        "\n",
        "\n",
        "  X_other_class = images[indices_of_other_class]\n",
        "  y_other_class = np.zeros(len(indices_of_other_class))\n",
        "\n",
        "  combined_data = np.concatenate((X_desired_class, X_other_class))\n",
        "  combined_labels = np.concatenate((y_desired_class, y_other_class))\n",
        "\n",
        "  train_data, test_data, train_labels, test_labels = train_test_split(combined_data, combined_labels, test_size=0.2)\n",
        "\n",
        "  class_model = create_model()\n",
        "\n",
        "  class_model.fit(\n",
        "  train_data,\n",
        "  train_labels,\n",
        "  validation_data=(test_data, test_labels),\n",
        "  epochs=10,\n",
        "  batch_size=200)\n",
        "\n",
        "  class_model.save(\"/content/drive/MyDrive/2 day split /ISO-DIGIT/\"+str(datasetmap[normal_class])+\".h5\")\n",
        "\n",
        "  print(\"model\",normal_class,\"trained\",normal_class)\n",
        "\n",
        "  # Clear the model and free up the memory\n",
        "  K.clear_session()\n",
        "  del class_model"
      ]
    }
  ],
  "metadata": {
    "kernelspec": {
      "display_name": "Python 3",
      "name": "python3"
    },
    "language_info": {
      "codemirror_mode": {
        "name": "ipython",
        "version": 3
      },
      "file_extension": ".py",
      "mimetype": "text/x-python",
      "name": "python",
      "nbconvert_exporter": "python",
      "pygments_lexer": "ipython3",
      "version": "3.10.13"
    },
    "colab": {
      "provenance": [],
      "gpuType": "T4"
    },
    "accelerator": "GPU"
  },
  "nbformat": 4,
  "nbformat_minor": 0
}